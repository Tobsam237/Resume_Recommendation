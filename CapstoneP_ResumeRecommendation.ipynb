{
 "cells": [
  {
   "cell_type": "markdown",
   "metadata": {
    "colab_type": "text",
    "id": "cSW655SNKOYg"
   },
   "source": [
    "Problem Approach: Resume REccomendation: \n",
    "we have 139 docx resume and we want to filter all to pick the best resume available for a job_description/opening.\n",
    "\n",
    "1 We will use doc2txt to extract each resume\n",
    "\n",
    "2 Perform feature engineering\n",
    "\n",
    "3 use cosine similarity to compare with JD\n",
    "\n",
    "4 loop through them each resume\n",
    "\n",
    "5 lastly, tabulate each resume sort_by to extract the top resumes for JD and otherwise"
   ]
  },
  {
   "cell_type": "code",
   "execution_count": 0,
   "metadata": {
    "colab": {},
    "colab_type": "code",
    "id": "xKtHRT6oLp25"
   },
   "outputs": [],
   "source": [
    "#import packages\n",
    "import pandas as pd\n",
    "import numpy as np \n",
    "import matplotlib.pyplot as plt\n",
    "import glob\n",
    "import docx"
   ]
  },
  {
   "cell_type": "code",
   "execution_count": 9,
   "metadata": {
    "colab": {
     "base_uri": "https://localhost:8080/",
     "height": 202
    },
    "colab_type": "code",
    "id": "7ZzdyU-tNZy0",
    "outputId": "62f6b2a3-6102-49b8-bdf1-c5617eeaffef"
   },
   "outputs": [
    {
     "name": "stdout",
     "output_type": "stream",
     "text": [
      "Collecting python-docx\n",
      "\u001b[?25l  Downloading https://files.pythonhosted.org/packages/e4/83/c66a1934ed5ed8ab1dbb9931f1779079f8bca0f6bbc5793c06c4b5e7d671/python-docx-0.8.10.tar.gz (5.5MB)\n",
      "\u001b[K     |████████████████████████████████| 5.5MB 2.8MB/s \n",
      "\u001b[?25hRequirement already satisfied: lxml>=2.3.2 in /usr/local/lib/python3.6/dist-packages (from python-docx) (4.2.6)\n",
      "Building wheels for collected packages: python-docx\n",
      "  Building wheel for python-docx (setup.py) ... \u001b[?25l\u001b[?25hdone\n",
      "  Created wheel for python-docx: filename=python_docx-0.8.10-cp36-none-any.whl size=184491 sha256=3212a4ca93d2d9964589fcec8449db3b713fd8076e93e284f4fd06f4a67c005c\n",
      "  Stored in directory: /root/.cache/pip/wheels/18/0b/a0/1dd62ff812c857c9e487f27d80d53d2b40531bec1acecfa47b\n",
      "Successfully built python-docx\n",
      "Installing collected packages: python-docx\n",
      "Successfully installed python-docx-0.8.10\n"
     ]
    }
   ],
   "source": [
    "!pip install python-docx"
   ]
  },
  {
   "cell_type": "code",
   "execution_count": 12,
   "metadata": {
    "colab": {
     "base_uri": "https://localhost:8080/",
     "height": 1000,
     "resources": {
      "http://localhost:8080/nbextensions/google.colab/files.js": {
       "data": "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",
       "headers": [
        [
         "content-type",
         "application/javascript"
        ]
       ],
       "ok": true,
       "status": 200,
       "status_text": ""
      }
     }
    },
    "colab_type": "code",
    "id": "M_qwMq5Re74f",
    "outputId": "f6f54524-a26b-4c16-df97-994681f6e086"
   },
   "outputs": [
    {
     "data": {
      "text/html": [
       "\n",
       "     <input type=\"file\" id=\"files-c6539955-2013-478c-b3e8-3bd02e1a8459\" name=\"files[]\" multiple disabled />\n",
       "     <output id=\"result-c6539955-2013-478c-b3e8-3bd02e1a8459\">\n",
       "      Upload widget is only available when the cell has been executed in the\n",
       "      current browser session. Please rerun this cell to enable.\n",
       "      </output>\n",
       "      <script src=\"/nbextensions/google.colab/files.js\"></script> "
      ],
      "text/plain": [
       "<IPython.core.display.HTML object>"
      ]
     },
     "metadata": {
      "tags": []
     },
     "output_type": "display_data"
    },
    {
     "name": "stdout",
     "output_type": "stream",
     "text": [
      "Saving ABHINAV_RAHATE_CV.PDF to ABHINAV_RAHATE_CV.PDF\n",
      "Saving aditya_Kashyn_ Resume.docx to aditya_Kashyn_ Resume.docx\n",
      "Saving Akshay Mukundwar.pdf to Akshay Mukundwar.pdf\n",
      "Saving Alok Roy_Resume_DS.doc to Alok Roy_Resume_DS.doc\n",
      "Saving Anoosh_1year...docx to Anoosh_1year...docx\n",
      "Saving Anup Vasanth - BA.docx to Anup Vasanth - BA.docx\n",
      "Saving Balaji_Resume.docx to Balaji_Resume.docx\n",
      "Saving CV-Ajitesh_Chauhan-converted.pdf to CV-Ajitesh_Chauhan-converted.pdf\n",
      "Saving Divyansh_Kumar_Singh.pdf to Divyansh_Kumar_Singh.pdf\n",
      "Saving Frenix_Rajiah_Resume-converted.pdf to Frenix_Rajiah_Resume-converted.pdf\n",
      "Saving General Content.docx to General Content.docx\n",
      "Saving Karan_bari.pdf to Karan_bari.pdf\n",
      "Saving lda_model_sym_wiki.pkl to lda_model_sym_wiki.pkl\n",
      "Saving Nikhil Resume.docx to Nikhil Resume.docx\n",
      "Saving Parag.pdf to Parag.pdf\n",
      "Saving Priya_DS_Resume.docx to Priya_DS_Resume.docx\n",
      "Saving Priya_Resume(1).docx to Priya_Resume(1).docx\n",
      "Saving Priya_Resume.docx to Priya_Resume.docx\n",
      "Saving Pulkit_Srivastava.pdf to Pulkit_Srivastava.pdf\n",
      "Saving Raghavendra Paragi.docx to Raghavendra Paragi.docx\n",
      "Saving Ramya_M_Resume.doc to Ramya_M_Resume.doc\n",
      "Saving Raviraj_Dixit_CV.PDF to Raviraj_Dixit_CV.PDF\n",
      "Saving Resume madhurima.docx to Resume madhurima.docx\n",
      "Saving resume_1.docx to resume_1.docx\n",
      "Saving resume_2.docx to resume_2.docx\n",
      "Saving resume_3.docx to resume_3.docx\n",
      "Saving resume_4.docx to resume_4.docx\n",
      "Saving resume_5.docx to resume_5.docx\n",
      "Saving resume_6.docx to resume_6.docx\n",
      "Saving resume_7.docx to resume_7.docx\n",
      "Saving resume_8.docx to resume_8.docx\n",
      "Saving resume_9.docx to resume_9.docx\n",
      "Saving resume_10.docx to resume_10.docx\n",
      "Saving resume_11.docx to resume_11.docx\n",
      "Saving resume_12.docx to resume_12.docx\n",
      "Saving resume_13.docx to resume_13.docx\n",
      "Saving resume_14.docx to resume_14.docx\n",
      "Saving resume_15.docx to resume_15.docx\n",
      "Saving resume_16.docx to resume_16.docx\n",
      "Saving resume_17.docx to resume_17.docx\n",
      "Saving resume_18.docx to resume_18.docx\n",
      "Saving resume_19.docx to resume_19.docx\n",
      "Saving resume_20.docx to resume_20.docx\n",
      "Saving resume_21.docx to resume_21.docx\n",
      "Saving resume_22.docx to resume_22.docx\n",
      "Saving resume_23.docx to resume_23.docx\n",
      "Saving resume_24.docx to resume_24.docx\n",
      "Saving resume_25.docx to resume_25.docx\n",
      "Saving resume_26.docx to resume_26.docx\n",
      "Saving resume_27.docx to resume_27.docx\n",
      "Saving resume_28.docx to resume_28.docx\n",
      "Saving resume_29.docx to resume_29.docx\n",
      "Saving resume_30.docx to resume_30.docx\n",
      "Saving resume_31.docx to resume_31.docx\n",
      "Saving resume_32.docx to resume_32.docx\n",
      "Saving resume_33.docx to resume_33.docx\n",
      "Saving resume_34.docx to resume_34.docx\n",
      "Saving resume_35.docx to resume_35.docx\n",
      "Saving resume_36.docx to resume_36.docx\n",
      "Saving resume_37.docx to resume_37.docx\n",
      "Saving resume_38.docx to resume_38.docx\n",
      "Saving resume_39.docx to resume_39.docx\n",
      "Saving resume_40.docx to resume_40.docx\n",
      "Saving resume_41.docx to resume_41.docx\n",
      "Saving resume_42.docx to resume_42.docx\n",
      "Saving resume_43.docx to resume_43.docx\n",
      "Saving resume_44.docx to resume_44.docx\n",
      "Saving resume_45.docx to resume_45.docx\n",
      "Saving resume_46.docx to resume_46.docx\n",
      "Saving resume_47.docx to resume_47.docx\n",
      "Saving resume_48.docx to resume_48.docx\n",
      "Saving resume_49.docx to resume_49.docx\n",
      "Saving resume_50.docx to resume_50.docx\n",
      "Saving resume_51.docx to resume_51.docx\n",
      "Saving resume_52.docx to resume_52.docx\n",
      "Saving resume_53.docx to resume_53.docx\n",
      "Saving resume_54.docx to resume_54.docx\n",
      "Saving resume_55.docx to resume_55.docx\n",
      "Saving resume_56.docx to resume_56.docx\n",
      "Saving resume_57.docx to resume_57.docx\n",
      "Saving resume_58.docx to resume_58.docx\n",
      "Saving resume_59.docx to resume_59.docx\n",
      "Saving resume_60.docx to resume_60.docx\n",
      "Saving resume_61.docx to resume_61.docx\n",
      "Saving resume_62.docx to resume_62.docx\n",
      "Saving resume_63.docx to resume_63.docx\n",
      "Saving resume_64.docx to resume_64.docx\n",
      "Saving resume_65.docx to resume_65.docx\n",
      "Saving resume_66.docx to resume_66.docx\n",
      "Saving resume_67.docx to resume_67.docx\n",
      "Saving resume_68.docx to resume_68.docx\n",
      "Saving resume_69.docx to resume_69.docx\n",
      "Saving resume_70.docx to resume_70.docx\n",
      "Saving resume_71.docx to resume_71.docx\n",
      "Saving resume_72.docx to resume_72.docx\n",
      "Saving resume_73.docx to resume_73.docx\n",
      "Saving resume_74.docx to resume_74.docx\n",
      "Saving resume_75.docx to resume_75.docx\n",
      "Saving resume_76.docx to resume_76.docx\n",
      "Saving resume_77.docx to resume_77.docx\n",
      "Saving resume_78.docx to resume_78.docx\n",
      "Saving resume_79.docx to resume_79.docx\n",
      "Saving resume_80.docx to resume_80.docx\n",
      "Saving resume_81.docx to resume_81.docx\n",
      "Saving resume_82.docx to resume_82.docx\n",
      "Saving resume_83.docx to resume_83.docx\n",
      "Saving resume_84.docx to resume_84.docx\n",
      "Saving resume_85.docx to resume_85.docx\n",
      "Saving resume_86.docx to resume_86.docx\n",
      "Saving resume_87.docx to resume_87.docx\n",
      "Saving resume_88.docx to resume_88.docx\n",
      "Saving resume_89.docx to resume_89.docx\n",
      "Saving resume_90.docx to resume_90.docx\n",
      "Saving resume_91.docx to resume_91.docx\n",
      "Saving resume_92.docx to resume_92.docx\n",
      "Saving resume_93.docx to resume_93.docx\n",
      "Saving resume_94.docx to resume_94.docx\n",
      "Saving resume_95.docx to resume_95.docx\n",
      "Saving resume_96.docx to resume_96.docx\n",
      "Saving resume_97.docx to resume_97.docx\n",
      "Saving resume_98.docx to resume_98.docx\n",
      "Saving resume_99.docx to resume_99.docx\n",
      "Saving resume_100.docx to resume_100.docx\n",
      "Saving resume_101.docx to resume_101.docx\n",
      "Saving resume_102.docx to resume_102.docx\n",
      "Saving resume_103.docx to resume_103.docx\n",
      "Saving resume_104.docx to resume_104.docx\n",
      "Saving resume_105.docx to resume_105.docx\n",
      "Saving resume_106.docx to resume_106.docx\n",
      "Saving resume_107.docx to resume_107.docx\n",
      "Saving resume_108.docx to resume_108.docx\n",
      "Saving resume_109.docx to resume_109.docx\n",
      "Saving resume_110.docx to resume_110.docx\n",
      "Saving resume_111.docx to resume_111.docx\n",
      "Saving resume_112.docx to resume_112.docx\n",
      "Saving resume_113.docx to resume_113.docx\n",
      "Saving resume_114.docx to resume_114.docx\n",
      "Saving resume_115.docx to resume_115.docx\n",
      "Saving resume_116.docx to resume_116.docx\n",
      "Saving resume_117.docx to resume_117.docx\n",
      "Saving resume_118.docx to resume_118.docx\n",
      "Saving resume_119.docx to resume_119.docx\n",
      "Saving resume_120.docx to resume_120.docx\n",
      "Saving resume_121.docx to resume_121.docx\n",
      "Saving resume_122.docx to resume_122.docx\n",
      "Saving resume_123.docx to resume_123.docx\n",
      "Saving resume_124.docx to resume_124.docx\n",
      "Saving resume_125.docx to resume_125.docx\n",
      "Saving resume_126.doc to resume_126.doc\n",
      "Saving resume_127.doc to resume_127.doc\n",
      "Saving Rishi_Dave.pdf to Rishi_Dave.pdf\n",
      "Saving Rohit_Samant.pdf to Rohit_Samant.pdf\n",
      "Saving Saideep_Uikey.pdf to Saideep_Uikey.pdf\n",
      "Saving sample2.pdf to sample2.pdf\n",
      "Saving sample4.pdf to sample4.pdf\n",
      "Saving sample5.pdf to sample5.pdf\n",
      "Saving sample6.pdf to sample6.pdf\n",
      "Saving sample7.pdf to sample7.pdf\n",
      "Saving sample8.pdf to sample8.pdf\n",
      "Saving sample9.pdf to sample9.pdf\n",
      "Saving sample10.pdf to sample10.pdf\n",
      "Saving sample11.pdf to sample11.pdf\n",
      "Saving sample12.pdf to sample12.pdf\n",
      "Saving sample13.pdf to sample13.pdf\n",
      "Saving sample14.pdf to sample14.pdf\n",
      "Saving sample15.pdf to sample15.pdf\n",
      "Saving sample16.pdf to sample16.pdf\n",
      "Saving sample17.pdf to sample17.pdf\n",
      "Saving sample18.pdf to sample18.pdf\n",
      "Saving sample19.pdf to sample19.pdf\n",
      "Saving sample20.pdf to sample20.pdf\n",
      "Saving sample22.pdf to sample22.pdf\n",
      "Saving sample23.pdf to sample23.pdf\n",
      "Saving sample24.pdf to sample24.pdf\n",
      "Saving sample25.pdf to sample25.pdf\n",
      "Saving sample26.pdf to sample26.pdf\n",
      "Saving sample27.pdf to sample27.pdf\n",
      "Saving Sangeeth_Kumar.pdf to Sangeeth_Kumar.pdf\n",
      "Saving Sankeeta_Jha.pdf to Sankeeta_Jha.pdf\n",
      "Saving Shaikh_Saif_Ali.pdf to Shaikh_Saif_Ali.pdf\n",
      "Saving shehnaaz_resume updated-converted.pdf to shehnaaz_resume updated-converted.pdf\n",
      "Saving Shehzada_Alam.pdf to Shehzada_Alam.pdf\n",
      "Saving Sunanda Singh ds.docx to Sunanda Singh ds.docx\n",
      "Saving Urvi_Parekh.pdf to Urvi_Parekh.pdf\n",
      "Saving Venkat_DataScience.docx to Venkat_DataScience.docx\n",
      "Saving Visheshwar.pdf to Visheshwar.pdf\n",
      "Saving Vishnu_resume.docx to Vishnu_resume.docx\n"
     ]
    }
   ],
   "source": [
    "#upload resume from drive\n",
    "from google.colab import files\n",
    "uploaded = files.upload()"
   ]
  },
  {
   "cell_type": "code",
   "execution_count": 0,
   "metadata": {
    "colab": {},
    "colab_type": "code",
    "id": "DCEsUoKTjDrj"
   },
   "outputs": [],
   "source": [
    "#define a function to extract text from any given .docx\n",
    "def getTextdoc(filename):\n",
    "  doc = docx.Document(filename)\n",
    "  fullText = []\n",
    "  for para in doc.paragraphs:\n",
    "    fullText.append(para.text)\n",
    "  return '\\n'.join(fullText)\n"
   ]
  },
  {
   "cell_type": "code",
   "execution_count": 0,
   "metadata": {
    "colab": {},
    "colab_type": "code",
    "id": "2ie2HhSsX_qL"
   },
   "outputs": [],
   "source": [
    "#get .docx files from a given path\n",
    "worddocx = glob.glob(uploaded, './*.docx')"
   ]
  },
  {
   "cell_type": "code",
   "execution_count": 0,
   "metadata": {
    "colab": {},
    "colab_type": "code",
    "id": "tccnWRLam7TX"
   },
   "outputs": [],
   "source": [
    "#extract text doc and compile them in a dataframe\n",
    "li= []\n",
    "\n",
    "for filenames in worddocx:\n",
    "  content = getTextdoc(filenames)\n",
    "  li.append(content)\n",
    "\n",
    "df= pd.DataFrame(li, columns=['Contents'])"
   ]
  },
  {
   "cell_type": "code",
   "execution_count": 176,
   "metadata": {
    "colab": {
     "base_uri": "https://localhost:8080/",
     "height": 54
    },
    "colab_type": "code",
    "id": "3-DW8KWlBtOb",
    "outputId": "cbf990c2-9c80-476a-b1d5-f98b4068bb2a"
   },
   "outputs": [
    {
     "data": {
      "text/plain": [
       "'Data Analyst Job Description Template\\nWe are looking to hire a Data Analyst to join our data team. You will take responsibility for managing our master data set, developing reports, and troubleshooting data issues. To do well in this role you need a very fine eye for detail, experience as a data analyst, and deep understanding of the popular data analysis tools and databases.\\nData Analyst Responsibilities:\\nManaging master data, including creation, updates, and deletion.\\nManaging users and user roles.\\nProvide quality assurance of imported data, working with quality assurance analyst if necessary.\\nCommissioning and decommissioning of data sets.\\nProcessing confidential data and information according to guidelines.\\nHelping develop reports and analysis.\\nManaging and designing the reporting environment, including data sources, security, and metadata.\\nSupporting the data warehouse in identifying and revising reporting requirements.\\nSupporting initiatives for data integrity and normalization.\\nAssessing tests and implementing new or upgraded software and assisting with strategic decisions on new systems.\\nGenerating reports from single or multiple systems.\\nTroubleshooting the reporting database environment and reports.\\nEvaluating changes and updates to source production systems.\\nTraining end users on new reports and dashboards.\\nProviding technical expertise on data storage structures, data mining, and data cleansing.\\nData Analyst Requirements:\\nBachelor’s degree from an accredited university or college in computer science.\\nWork experience as a data analyst or in related field.\\nAbility to work with stakeholders to assess potential risks.\\nAbility to analyze existing tools and databases and provide software solution recommendations.\\nAbility to translate business requirements into non-technical, lay terms.\\nHigh-level experience in methodologies and processes for managing large scale databases.\\nDemonstrated experience in handling large data sets and relational databases.\\nUnderstanding of addressing and metadata standards.\\nHigh-level written and verbal communication skills.\\n'"
      ]
     },
     "execution_count": 176,
     "metadata": {
      "tags": []
     },
     "output_type": "execute_result"
    }
   ],
   "source": [
    "job_descr"
   ]
  },
  {
   "cell_type": "code",
   "execution_count": 0,
   "metadata": {
    "colab": {},
    "colab_type": "code",
    "id": "eqOm9Z8pBiF8"
   },
   "outputs": [],
   "source": [
    "#import text vectoriser\n",
    "from sklearn.feature_extraction.text import CountVectorizer\n",
    "cv = CountVectorizer()"
   ]
  },
  {
   "cell_type": "code",
   "execution_count": 47,
   "metadata": {
    "colab": {
     "base_uri": "https://localhost:8080/",
     "height": 50
    },
    "colab_type": "code",
    "id": "qe3EPoucBiJ8",
    "outputId": "a67dc265-4965-4c60-94ef-b4569b3c96b1"
   },
   "outputs": [
    {
     "data": {
      "text/plain": [
       "<1x126 sparse matrix of type '<class 'numpy.int64'>'\n",
       "\twith 126 stored elements in Compressed Sparse Row format>"
      ]
     },
     "execution_count": 47,
     "metadata": {
      "tags": []
     },
     "output_type": "execute_result"
    }
   ],
   "source": [
    "#sample to ensure it works\n",
    "cv.fit_transform(df.iloc[2], job_descr)"
   ]
  },
  {
   "cell_type": "code",
   "execution_count": 0,
   "metadata": {
    "colab": {},
    "colab_type": "code",
    "id": "k3HQY-m7BiDg"
   },
   "outputs": [],
   "source": [
    "#import cosine_similarity test to check compare vectors\n",
    "from sklearn.metrics.pairwise import cosine_similarity"
   ]
  },
  {
   "cell_type": "code",
   "execution_count": 49,
   "metadata": {
    "colab": {
     "base_uri": "https://localhost:8080/",
     "height": 34
    },
    "colab_type": "code",
    "id": "tU0KTKZpDLjP",
    "outputId": "12e7db91-7aff-43a7-b88c-303ad3cac672"
   },
   "outputs": [
    {
     "data": {
      "text/plain": [
       "array([[1.]])"
      ]
     },
     "execution_count": 49,
     "metadata": {
      "tags": []
     },
     "output_type": "execute_result"
    }
   ],
   "source": [
    "#check if it works----Fails\n",
    "cosine_similarity(cv.fit_transform(df.iloc[2], job_descr))\n",
    "\n",
    "cosine_similarity(cv.fit_transform(df.iloc[2], job_descr))[0][1] * 100"
   ]
  },
  {
   "cell_type": "code",
   "execution_count": 61,
   "metadata": {
    "colab": {
     "base_uri": "https://localhost:8080/",
     "height": 74,
     "resources": {
      "http://localhost:8080/nbextensions/google.colab/files.js": {
       "data": "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",
       "headers": [
        [
         "content-type",
         "application/javascript"
        ]
       ],
       "ok": true,
       "status": 200,
       "status_text": ""
      }
     }
    },
    "colab_type": "code",
    "id": "CpRPzH2DDLcv",
    "outputId": "7c3cd525-7b03-4637-a17d-0ab8887fcf1b"
   },
   "outputs": [
    {
     "data": {
      "text/html": [
       "\n",
       "     <input type=\"file\" id=\"files-1bd3621e-eaee-4c09-9125-d077820d1962\" name=\"files[]\" multiple disabled />\n",
       "     <output id=\"result-1bd3621e-eaee-4c09-9125-d077820d1962\">\n",
       "      Upload widget is only available when the cell has been executed in the\n",
       "      current browser session. Please rerun this cell to enable.\n",
       "      </output>\n",
       "      <script src=\"/nbextensions/google.colab/files.js\"></script> "
      ],
      "text/plain": [
       "<IPython.core.display.HTML object>"
      ]
     },
     "metadata": {
      "tags": []
     },
     "output_type": "display_data"
    },
    {
     "name": "stdout",
     "output_type": "stream",
     "text": [
      "Saving Data Analyst Job Description.docx to Data Analyst Job Description.docx\n"
     ]
    }
   ],
   "source": [
    "#uploaded job description\n",
    "uploaded2= files.upload()"
   ]
  },
  {
   "cell_type": "code",
   "execution_count": 0,
   "metadata": {
    "colab": {},
    "colab_type": "code",
    "id": "kiCw8klVMjPP"
   },
   "outputs": [],
   "source": [
    "#extract text from JD\n",
    "job_descr = getTextdoc('Data Analyst Job Description.docx')"
   ]
  },
  {
   "cell_type": "code",
   "execution_count": 107,
   "metadata": {
    "colab": {
     "base_uri": "https://localhost:8080/",
     "height": 50
    },
    "colab_type": "code",
    "id": "MKw-V4zCRZ4t",
    "outputId": "f0153d1b-bcb7-466f-ce99-f068cd274cc1"
   },
   "outputs": [
    {
     "data": {
      "text/plain": [
       "array([[1.        , 0.55142193],\n",
       "       [0.55142193, 1.        ]])"
      ]
     },
     "execution_count": 107,
     "metadata": {
      "tags": []
     },
     "output_type": "execute_result"
    }
   ],
   "source": [
    "#try out--- success\n",
    "cosine_similarity(cv.fit_transform([getTextdoc(worddocx[34]), job_descr]))"
   ]
  },
  {
   "cell_type": "code",
   "execution_count": 0,
   "metadata": {
    "colab": {},
    "colab_type": "code",
    "id": "dNX8mCXzQSuZ"
   },
   "outputs": [],
   "source": [
    "#create a list of vectorised text extracted from .docx file. And loop through all  \n",
    "cos_sim = []\n",
    "for i in range(len(worddocx)):\n",
    "  abc = cosine_similarity(cv.fit_transform([getTextdoc(worddocx[i]), job_descr]))\n",
    "  cos_sim.append(abc)"
   ]
  },
  {
   "cell_type": "code",
   "execution_count": 0,
   "metadata": {
    "colab": {},
    "colab_type": "code",
    "id": "Fol_XejdZgU2"
   },
   "outputs": [],
   "source": [
    "#find similarity text between resume vector-form and job description vector-form\n",
    "Similarity_Score = []\n",
    "for i in range(len(cos_sim)):\n",
    "  x = cos_sim[i][1][0] * 100\n",
    "  Similarity_Score.append(x)\n",
    "\n",
    "#df.append()\n",
    "#for i in range(len(cos_sim)):\n",
    " # df.assign(Similarity_Score = round(cos_sim[i][0][1] * 100))"
   ]
  },
  {
   "cell_type": "code",
   "execution_count": 0,
   "metadata": {
    "colab": {},
    "colab_type": "code",
    "id": "WNPuUGq7Zgcm"
   },
   "outputs": [],
   "source": [
    "#affix Similarity_Score in dataframe\n",
    "df = df.assign(Sim_Score= Similarity_Score )"
   ]
  },
  {
   "cell_type": "code",
   "execution_count": 175,
   "metadata": {
    "colab": {
     "base_uri": "https://localhost:8080/",
     "height": 195
    },
    "colab_type": "code",
    "id": "6x_vVrO9YmIC",
    "outputId": "46c0c5d8-f56b-4584-b954-94fd01b21c0a"
   },
   "outputs": [
    {
     "data": {
      "text/html": [
       "<div>\n",
       "<style scoped>\n",
       "    .dataframe tbody tr th:only-of-type {\n",
       "        vertical-align: middle;\n",
       "    }\n",
       "\n",
       "    .dataframe tbody tr th {\n",
       "        vertical-align: top;\n",
       "    }\n",
       "\n",
       "    .dataframe thead th {\n",
       "        text-align: right;\n",
       "    }\n",
       "</style>\n",
       "<table border=\"1\" class=\"dataframe\">\n",
       "  <thead>\n",
       "    <tr style=\"text-align: right;\">\n",
       "      <th></th>\n",
       "      <th>Contents</th>\n",
       "      <th>Sim_Score</th>\n",
       "    </tr>\n",
       "  </thead>\n",
       "  <tbody>\n",
       "    <tr>\n",
       "      <th>38</th>\n",
       "      <td>A young Data Scientist with an analytical bent...</td>\n",
       "      <td>72.182575</td>\n",
       "    </tr>\n",
       "    <tr>\n",
       "      <th>121</th>\n",
       "      <td>Madhurima Sengupta\\nE-Mail: sgmadhurima@gmail....</td>\n",
       "      <td>71.857194</td>\n",
       "    </tr>\n",
       "    <tr>\n",
       "      <th>119</th>\n",
       "      <td>TS VENKATA KRISHNAN\\nE-Mail: venkey619@icloud....</td>\n",
       "      <td>71.667460</td>\n",
       "    </tr>\n",
       "    <tr>\n",
       "      <th>61</th>\n",
       "      <td>resume_76@gmail.com\\n(948)-261-2460\\nMelissa B...</td>\n",
       "      <td>71.150767</td>\n",
       "    </tr>\n",
       "    <tr>\n",
       "      <th>133</th>\n",
       "      <td>resume_92@gmail.com\\n977 221 6451\\nRuth Willis...</td>\n",
       "      <td>69.677285</td>\n",
       "    </tr>\n",
       "  </tbody>\n",
       "</table>\n",
       "</div>"
      ],
      "text/plain": [
       "                                              Contents  Sim_Score\n",
       "38   A young Data Scientist with an analytical bent...  72.182575\n",
       "121  Madhurima Sengupta\\nE-Mail: sgmadhurima@gmail....  71.857194\n",
       "119  TS VENKATA KRISHNAN\\nE-Mail: venkey619@icloud....  71.667460\n",
       "61   resume_76@gmail.com\\n(948)-261-2460\\nMelissa B...  71.150767\n",
       "133  resume_92@gmail.com\\n977 221 6451\\nRuth Willis...  69.677285"
      ]
     },
     "execution_count": 175,
     "metadata": {
      "tags": []
     },
     "output_type": "execute_result"
    }
   ],
   "source": [
    "#sort table by Sim_Score\n",
    "df_final = df.sort_values('Sim_Score', ascending= False)\n",
    "df_final.head()\n"
   ]
  },
  {
   "cell_type": "code",
   "execution_count": 0,
   "metadata": {
    "colab": {},
    "colab_type": "code",
    "id": "4ryO-p1Fqr0g"
   },
   "outputs": [],
   "source": [
    "df_final=df_final.reset_index(drop = True)"
   ]
  },
  {
   "cell_type": "code",
   "execution_count": 189,
   "metadata": {
    "colab": {
     "base_uri": "https://localhost:8080/",
     "height": 402
    },
    "colab_type": "code",
    "id": "dJZigH7nqzfv",
    "outputId": "20cd07c1-c1d8-40cf-970f-2da2facf5418"
   },
   "outputs": [
    {
     "data": {
      "text/html": [
       "<div>\n",
       "<style scoped>\n",
       "    .dataframe tbody tr th:only-of-type {\n",
       "        vertical-align: middle;\n",
       "    }\n",
       "\n",
       "    .dataframe tbody tr th {\n",
       "        vertical-align: top;\n",
       "    }\n",
       "\n",
       "    .dataframe thead th {\n",
       "        text-align: right;\n",
       "    }\n",
       "</style>\n",
       "<table border=\"1\" class=\"dataframe\">\n",
       "  <thead>\n",
       "    <tr style=\"text-align: right;\">\n",
       "      <th></th>\n",
       "      <th>index</th>\n",
       "      <th>Contents</th>\n",
       "      <th>Sim_Score</th>\n",
       "    </tr>\n",
       "  </thead>\n",
       "  <tbody>\n",
       "    <tr>\n",
       "      <th>0</th>\n",
       "      <td>38</td>\n",
       "      <td>A young Data Scientist with an analytical bent...</td>\n",
       "      <td>72.182575</td>\n",
       "    </tr>\n",
       "    <tr>\n",
       "      <th>1</th>\n",
       "      <td>121</td>\n",
       "      <td>Madhurima Sengupta\\nE-Mail: sgmadhurima@gmail....</td>\n",
       "      <td>71.857194</td>\n",
       "    </tr>\n",
       "    <tr>\n",
       "      <th>2</th>\n",
       "      <td>119</td>\n",
       "      <td>TS VENKATA KRISHNAN\\nE-Mail: venkey619@icloud....</td>\n",
       "      <td>71.667460</td>\n",
       "    </tr>\n",
       "    <tr>\n",
       "      <th>3</th>\n",
       "      <td>61</td>\n",
       "      <td>resume_76@gmail.com\\n(948)-261-2460\\nMelissa B...</td>\n",
       "      <td>71.150767</td>\n",
       "    </tr>\n",
       "    <tr>\n",
       "      <th>4</th>\n",
       "      <td>133</td>\n",
       "      <td>resume_92@gmail.com\\n977 221 6451\\nRuth Willis...</td>\n",
       "      <td>69.677285</td>\n",
       "    </tr>\n",
       "    <tr>\n",
       "      <th>...</th>\n",
       "      <td>...</td>\n",
       "      <td>...</td>\n",
       "      <td>...</td>\n",
       "    </tr>\n",
       "    <tr>\n",
       "      <th>134</th>\n",
       "      <td>40</td>\n",
       "      <td>resume_3@gmail.com\\n(438).752.1860\\nLTS Softwa...</td>\n",
       "      <td>36.992268</td>\n",
       "    </tr>\n",
       "    <tr>\n",
       "      <th>135</th>\n",
       "      <td>75</td>\n",
       "      <td>resume_112@gmail.com\\n(322).641.0480\\nWilliam ...</td>\n",
       "      <td>34.624703</td>\n",
       "    </tr>\n",
       "    <tr>\n",
       "      <th>136</th>\n",
       "      <td>47</td>\n",
       "      <td>resume_58@gmail.com\\n625.388.5724\\nJoseph Youn...</td>\n",
       "      <td>29.343838</td>\n",
       "    </tr>\n",
       "    <tr>\n",
       "      <th>137</th>\n",
       "      <td>8</td>\n",
       "      <td>resume_34@gmail.com\\n(521) 753 1354\\nErik McCu...</td>\n",
       "      <td>19.734507</td>\n",
       "    </tr>\n",
       "    <tr>\n",
       "      <th>138</th>\n",
       "      <td>1</td>\n",
       "      <td>: sm.balaji.1969@gmail.com\\nMobile: +91-901911...</td>\n",
       "      <td>0.000000</td>\n",
       "    </tr>\n",
       "  </tbody>\n",
       "</table>\n",
       "<p>139 rows × 3 columns</p>\n",
       "</div>"
      ],
      "text/plain": [
       "     index                                           Contents  Sim_Score\n",
       "0       38  A young Data Scientist with an analytical bent...  72.182575\n",
       "1      121  Madhurima Sengupta\\nE-Mail: sgmadhurima@gmail....  71.857194\n",
       "2      119  TS VENKATA KRISHNAN\\nE-Mail: venkey619@icloud....  71.667460\n",
       "3       61  resume_76@gmail.com\\n(948)-261-2460\\nMelissa B...  71.150767\n",
       "4      133  resume_92@gmail.com\\n977 221 6451\\nRuth Willis...  69.677285\n",
       "..     ...                                                ...        ...\n",
       "134     40  resume_3@gmail.com\\n(438).752.1860\\nLTS Softwa...  36.992268\n",
       "135     75  resume_112@gmail.com\\n(322).641.0480\\nWilliam ...  34.624703\n",
       "136     47  resume_58@gmail.com\\n625.388.5724\\nJoseph Youn...  29.343838\n",
       "137      8  resume_34@gmail.com\\n(521) 753 1354\\nErik McCu...  19.734507\n",
       "138      1  : sm.balaji.1969@gmail.com\\nMobile: +91-901911...   0.000000\n",
       "\n",
       "[139 rows x 3 columns]"
      ]
     },
     "execution_count": 189,
     "metadata": {
      "tags": []
     },
     "output_type": "execute_result"
    }
   ],
   "source": [
    "df_final"
   ]
  },
  {
   "cell_type": "code",
   "execution_count": 192,
   "metadata": {
    "colab": {
     "base_uri": "https://localhost:8080/",
     "height": 658
    },
    "colab_type": "code",
    "id": "FKwVhQqdrgaa",
    "outputId": "3bf1b564-1865-4466-eed9-8473b19b272a"
   },
   "outputs": [
    {
     "name": "stdout",
     "output_type": "stream",
     "text": [
      "A young Data Scientist with an analytical bent of mind with an unending thirst to learn Analytics, machine learning and leverage the same to solve business problems.\n",
      "SUMMARY\n",
      "I am currently working as Engineer at Tata Consultancy Services. Having close to a year of experience in Data Science and specializes in analytical problem solving and machine learning. expertise in Python and R, has some exposure to big data tools such as Hive and Spark, visualizations tools such as Tableau.\n",
      "I am result oriented approach with focus on efficient implementation and customer centricity. Im having capabilities of understanding the needs of the business, its strategic direction within no time and identifying initiatives that will allow a business to meet those strategic goals. proficient in formulating statistical and analytical methodology, building models, decision making, identifying trends and patterns with data. Passionate to utilize open source analytical tools such as R to build and deploy predictive models, generate actionable insights from large data and convert these into business strategies that could drive revenues or improve customer satisfaction for the company and very good in generating actionable insights from large data and convert these into business strategies that could drive revenues or improve customer satisfaction for the company, strong analytical/logical thinking and communication skills. He has excellent presentation and customer management skills.\n",
      "I'm having versatile knowledge & experience on various statistical and machine learning techniques like linear regression, logistic regression, decision trees, random forest, NLP, regularization techniques like lasso and ridge, boosting algorithms, clustering, sentiment analysis.\n",
      "WORK EXPERIENCE\n",
      "Tata Consultancy Services, Associate Engineer, Oct 2017 - Present\n",
      "Churn Analysis: To understand the precise customer behaviors and attributes which signal the risk of customer churn and also predict the customers with high risk of churn\n",
      "Segmentation of customers (to target accordingly) based on the traffic, demographics, conversions and search data using techniques like cluster analysis.\n",
      "Worked on digital data like web traffic, search, demographics, geo-tagging data using big data tools like AWS & Hive to identifying potential audience and unearth patterns in customer’s digital behavior.\n",
      "Helping sales team in creating sales pitch by analyzing web data and proving various hypothesis and developing digital strategies for the different clients spread across almost every domain.\n",
      "Segmentation & buying propensity modeling using cluster analysis and classification algorithm.\n",
      "As a part of data science team was involved in solving complex client problems using available data, building predictive models, discovering insights, identifying trends and patterns with data\n",
      "Worked on Attrition Prediction Model where I implemented techniques Logistic Regression, Random forest(POC)\n",
      "Worked on data processing, data cleaning, quantitative and qualitative data analysis using statistical tests, correlations, cluster analysis and linear regression.\n",
      "Conducted Webinars:\n",
      "Machine Learning for Dummies \n",
      "Statistics\n",
      "EDUCATION \n",
      "BE Computer Science Engineering, The National Institute of Engineering, Visvesvaraya Technological University, 2013-2017, 8.7 CGPA\n",
      "12th Alvas PU College, 2011-2013, 91%\n",
      "10th Mount Carmel Convent School, 2011, 82%\n",
      "\n",
      "SKILLSET\n",
      "OTHERS\n",
      "TCS ‘Extra mile’ award\n",
      "TCS - Data ‘Trend setter’ Award\n",
      "NIE ‘Student of the year’ - 2017\n",
      "\n",
      "PERSONAL DETAILS\n",
      "Date of Birth: \t\t8th August 1995\n",
      "Address: \t\tWhitefield, Bangalore\n",
      "Marital Status: \t               Unmarried\n",
      "Languages Known: \tEnglish, Hindi and Kannada\n",
      "\n",
      "\n",
      "\n"
     ]
    }
   ],
   "source": [
    "#get any resume in df based on index \n",
    "print(getTextdoc(worddocx[38]))"
   ]
  },
  {
   "cell_type": "code",
   "execution_count": 0,
   "metadata": {
    "colab": {},
    "colab_type": "code",
    "id": "RLkQC-KXr9dB"
   },
   "outputs": [],
   "source": []
  }
 ],
 "metadata": {
  "colab": {
   "collapsed_sections": [],
   "name": "CapstoneP_ResumeRecommendation.ipynb",
   "provenance": []
  },
  "kernelspec": {
   "display_name": "Python 3",
   "language": "python",
   "name": "python3"
  },
  "language_info": {
   "codemirror_mode": {
    "name": "ipython",
    "version": 3
   },
   "file_extension": ".py",
   "mimetype": "text/x-python",
   "name": "python",
   "nbconvert_exporter": "python",
   "pygments_lexer": "ipython3",
   "version": "3.7.6"
  }
 },
 "nbformat": 4,
 "nbformat_minor": 1
}
